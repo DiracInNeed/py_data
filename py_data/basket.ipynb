{
 "cells": [
  {
   "cell_type": "code",
   "execution_count": 1,
   "id": "df96b28a-d311-436c-ae2f-8cfac04bc8b2",
   "metadata": {
    "ExecuteTime": {
     "end_time": "2023-08-29T06:27:26.393780600Z",
     "start_time": "2023-08-29T06:27:26.385656Z"
    }
   },
   "outputs": [],
   "source": [
    "import pandas as pd\n",
    "from apyori import apriori"
   ]
  },
  {
   "cell_type": "code",
   "execution_count": 2,
   "id": "9339b163-7d48-49d1-a3bb-24d8cc3752b8",
   "metadata": {
    "ExecuteTime": {
     "end_time": "2023-08-29T06:28:10.961729400Z",
     "start_time": "2023-08-29T06:27:28.398176Z"
    }
   },
   "outputs": [],
   "source": [
    "# 读取数据，查看数据格式\n",
    "file_path = \"D:\\jj\\py_data\\datas\\supermarket_data_clean.xlsx\"\n",
    "# file_path = \"data/supermarket_data.csv\"\n",
    "dfs = pd.read_excel(file_path, index_col=0)"
   ]
  },
  {
   "cell_type": "code",
   "execution_count": 3,
   "outputs": [
    {
     "name": "stdout",
     "output_type": "stream",
     "text": [
      "                 Order Date  Order Date Year  Order Date Month  \\\n",
      "Order ID                                                         \n",
      "AG-2011-2040       1/1/2011             2011                 1   \n",
      "IN-2011-47883      1/1/2011             2011                 1   \n",
      "HU-2011-1220       1/1/2011             2011                 1   \n",
      "IT-2011-3647632    1/1/2011             2011                 1   \n",
      "IN-2011-47883      1/1/2011             2011                 1   \n",
      "...                     ...              ...               ...   \n",
      "MX-2014-108574   31-12-2014             2014                12   \n",
      "CA-2014-115427   31-12-2014             2014                12   \n",
      "MX-2014-110527   31-12-2014             2014                12   \n",
      "MX-2014-114783   31-12-2014             2014                12   \n",
      "CA-2014-156720   31-12-2014             2014                12   \n",
      "\n",
      "                 Order Date Day Ship Date  Ship Date Year  Ship Date Month  \\\n",
      "Order ID                                                                     \n",
      "AG-2011-2040                  1  6/1/2011            2011                6   \n",
      "IN-2011-47883                 1  8/1/2011            2011                8   \n",
      "HU-2011-1220                  1  5/1/2011            2011                5   \n",
      "IT-2011-3647632               1  5/1/2011            2011                5   \n",
      "IN-2011-47883                 1  8/1/2011            2011                8   \n",
      "...                         ...       ...             ...              ...   \n",
      "MX-2014-108574               31  4/1/2015            2015                4   \n",
      "CA-2014-115427               31  4/1/2015            2015                4   \n",
      "MX-2014-110527               31  2/1/2015            2015                2   \n",
      "MX-2014-114783               31  6/1/2015            2015                6   \n",
      "CA-2014-156720               31  4/1/2015            2015                4   \n",
      "\n",
      "                 Ship Date Day       Ship Mode Customer ID  ... Sub-Category  \\\n",
      "Order ID                                                    ...                \n",
      "AG-2011-2040                 1  Standard Class    TB-11280  ...      Storage   \n",
      "IN-2011-47883                1  Standard Class    JH-15985  ...     Supplies   \n",
      "HU-2011-1220                 1    Second Class      AT-735  ...      Storage   \n",
      "IT-2011-3647632              1    Second Class    EM-14140  ...        Paper   \n",
      "IN-2011-47883                1  Standard Class    JH-15985  ...  Furnishings   \n",
      "...                        ...             ...         ...  ...          ...   \n",
      "MX-2014-108574               1  Standard Class    JB-16045  ...       Labels   \n",
      "CA-2014-115427               1  Standard Class    EB-13975  ...      Binders   \n",
      "MX-2014-110527               1    Second Class    CM-12190  ...       Labels   \n",
      "MX-2014-114783               1  Standard Class    TD-20995  ...       Labels   \n",
      "CA-2014-156720               1  Standard Class    JM-15580  ...    Fasteners   \n",
      "\n",
      "                                                    Product Name    Sales  \\\n",
      "Order ID                                                                    \n",
      "AG-2011-2040                                 Tenex Lockers, Blue    408.3   \n",
      "IN-2011-47883                           Acme Trimmer, High Speed  120.366   \n",
      "HU-2011-1220                             Tenex Box, Single Width    66.12   \n",
      "IT-2011-3647632                      Enermax Note Cards, Premium   44.865   \n",
      "IN-2011-47883                         Eldon Light Bulb, Duo Pack   113.67   \n",
      "...                                                          ...      ...   \n",
      "MX-2014-108574          Novimex Legal Exhibit Labels, Adjustable    16.74   \n",
      "CA-2014-115427   Cardinal Slant-D Ring Binder, Heavy Gauge Vinyl   13.904   \n",
      "MX-2014-110527            Hon Color Coded Labels, 5000 Label Set     26.4   \n",
      "MX-2014-114783            Hon Legal Exhibit Labels, Alphabetical     7.12   \n",
      "CA-2014-156720                               Bagged Rubber Bands    3.024   \n",
      "\n",
      "                Quantity Discount  Profit Shipping Cost Order Priority  \\\n",
      "Order ID                                                                 \n",
      "AG-2011-2040           2      0.0  106.14         35.46         Medium   \n",
      "IN-2011-47883          3      0.1  36.036          9.72         Medium   \n",
      "HU-2011-1220           4      0.0   29.64          8.17           High   \n",
      "IT-2011-3647632        3      0.5 -26.055          4.82           High   \n",
      "IN-2011-47883          5      0.1   37.77           4.7         Medium   \n",
      "...                  ...      ...     ...           ...            ...   \n",
      "MX-2014-108574         3      0.0    0.66          1.32         Medium   \n",
      "CA-2014-115427         2      0.2  4.5188          0.89         Medium   \n",
      "MX-2014-110527         3      0.0   12.36          0.35         Medium   \n",
      "MX-2014-114783         1      0.0    0.56           0.2         Medium   \n",
      "CA-2014-156720         3      0.2 -0.6048          0.17         Medium   \n",
      "\n",
      "                Unnamed: 24 Unnamed: 25  \n",
      "Order ID                                 \n",
      "AG-2011-2040            NaN         NaN  \n",
      "IN-2011-47883           NaN         NaN  \n",
      "HU-2011-1220            NaN         NaN  \n",
      "IT-2011-3647632         NaN         NaN  \n",
      "IN-2011-47883           NaN         NaN  \n",
      "...                     ...         ...  \n",
      "MX-2014-108574          NaN         NaN  \n",
      "CA-2014-115427          NaN         NaN  \n",
      "MX-2014-110527          NaN         NaN  \n",
      "MX-2014-114783          NaN         NaN  \n",
      "CA-2014-156720          NaN         NaN  \n",
      "\n",
      "[50629 rows x 30 columns]\n"
     ]
    }
   ],
   "source": [
    "df = dfs[dfs[\"Profit\"].map(lambda x: isinstance(x, (int, float)))]\n",
    "df = df[df[\"Customer ID\"].map(lambda x: isinstance(x, str))]\n",
    "df = df[df[\"Product Name\"].map(lambda x: isinstance(x, str))]\n",
    "print(df)"
   ],
   "metadata": {
    "collapsed": false,
    "ExecuteTime": {
     "end_time": "2023-08-29T06:28:22.125267700Z",
     "start_time": "2023-08-29T06:28:21.686495200Z"
    }
   },
   "id": "b0d5a9051e7bd913"
  },
  {
   "cell_type": "code",
   "execution_count": 4,
   "id": "955acb11-6294-4dc3-b9ec-077c2b76de9d",
   "metadata": {
    "ExecuteTime": {
     "end_time": "2023-08-29T06:28:26.031128900Z",
     "start_time": "2023-08-29T06:28:23.108004700Z"
    }
   },
   "outputs": [
    {
     "name": "stdout",
     "output_type": "stream",
     "text": [
      "{'Customer ID': 'AA-10315', 'Product Name': ['Fiskars Trimmer, Serrated', 'Avery Shipping Labels, Alphabetical', 'SanDisk Numeric Keypad, USB', 'Elite Shears, High Speed', 'Tenex Personal Project File with Scoop Front Design, Black', 'High Speed Automatic Electric Letter Opener', 'Polycom VVX 310 VoIP phone', 'Verbatim 25 GB 6x Blu-ray Single Layer Recordable Disc, 1/Pack', 'Acco Banker\\'s Clasps, 5 3/4\"-Long', 'SanDisk Memo Slips, Multicolor', 'BIC Highlighters, Blue', 'Samsung Audio Dock, Full Size', 'Nokia Speaker Phone, Full Size', 'Bush Floating Shelf Set, Metal', 'Apple Speaker Phone, with Caller ID', 'Smead Lockers, Wire Frame', 'Cardinal Binder Covers, Durable', 'Binney & Smith Pencil Sharpener, Water Color', 'Tenex Folders, Blue', 'Konica Calculator, Wireless', 'Hon File Folder Labels, Laser Printer Compatible', 'Master Caster Door Stop, Large Neon Orange', 'Staples', 'Sauder Library with Doors, Traditional', 'Motorola Signal Booster, Full Size', 'Motorola Headset, with Caller ID', 'Avery Index Tab, Economy', 'Eldon Box, Industrial', 'Cardinal Binder, Durable', 'Advantus Stacking Tray, Erganomic', 'Samsung Audio Dock, Cordless', 'Ibico Binding Machine, Recycled', 'Ibico Binder Covers, Durable', 'Wilson Jones Hole Reinforcements, Economy', 'Hamilton Beach Toaster, Black', 'Deflect-O Frame, Duo Pack', 'Boston Canvas, Fluorescent', \"Belkin 325VA UPS Surge Protector, 6'\", 'Avery Binding System Hidden Tab Executive Style Index Sets', 'GBC DocuBind 200 Manual Binding Machine', 'Fellowes Advanced Computer Series Surge Protectors', 'Bush Stackable Bookrack, Pine']}\n",
      "['Fiskars Trimmer, Serrated', 'Avery Shipping Labels, Alphabetical', 'SanDisk Numeric Keypad, USB', 'Elite Shears, High Speed', 'Tenex Personal Project File with Scoop Front Design, Black', 'High Speed Automatic Electric Letter Opener', 'Polycom VVX 310 VoIP phone', 'Verbatim 25 GB 6x Blu-ray Single Layer Recordable Disc, 1/Pack', 'Acco Banker\\'s Clasps, 5 3/4\"-Long', 'SanDisk Memo Slips, Multicolor', 'BIC Highlighters, Blue', 'Samsung Audio Dock, Full Size', 'Nokia Speaker Phone, Full Size', 'Bush Floating Shelf Set, Metal', 'Apple Speaker Phone, with Caller ID', 'Smead Lockers, Wire Frame', 'Cardinal Binder Covers, Durable', 'Binney & Smith Pencil Sharpener, Water Color', 'Tenex Folders, Blue', 'Konica Calculator, Wireless', 'Hon File Folder Labels, Laser Printer Compatible', 'Master Caster Door Stop, Large Neon Orange', 'Staples', 'Sauder Library with Doors, Traditional', 'Motorola Signal Booster, Full Size', 'Motorola Headset, with Caller ID', 'Avery Index Tab, Economy', 'Eldon Box, Industrial', 'Cardinal Binder, Durable', 'Advantus Stacking Tray, Erganomic', 'Samsung Audio Dock, Cordless', 'Ibico Binding Machine, Recycled', 'Ibico Binder Covers, Durable', 'Wilson Jones Hole Reinforcements, Economy', 'Hamilton Beach Toaster, Black', 'Deflect-O Frame, Duo Pack', 'Boston Canvas, Fluorescent', \"Belkin 325VA UPS Surge Protector, 6'\", 'Avery Binding System Hidden Tab Executive Style Index Sets', 'GBC DocuBind 200 Manual Binding Machine', 'Fellowes Advanced Computer Series Surge Protectors', 'Bush Stackable Bookrack, Pine']\n"
     ]
    }
   ],
   "source": [
    "# 按用户合并商品\n",
    "combine_dict = df.groupby('Customer ID').apply(\n",
    "    lambda x: {col: x[col].tolist()[0] if col != 'Product Name' else x[col].tolist() for col in x.columns}).to_dict()\n",
    "new_data_dict = []\n",
    "order_item_list = []\n",
    "for key, value in combine_dict.items():\n",
    "    sample = {\"Customer ID\": key, \"Product Name\": value[\"Product Name\"]}\n",
    "    new_data_dict.append(sample)\n",
    "    order_item_list.append(value[\"Product Name\"])\n",
    "print(new_data_dict[0])\n",
    "print(order_item_list[0])"
   ]
  },
  {
   "cell_type": "code",
   "execution_count": 5,
   "id": "675d7097-fd9f-4092-91ee-e6d8395009cb",
   "metadata": {
    "ExecuteTime": {
     "end_time": "2023-08-29T06:28:27.237972700Z",
     "start_time": "2023-08-29T06:28:27.212569400Z"
    }
   },
   "outputs": [
    {
     "name": "stdout",
     "output_type": "stream",
     "text": [
      "<generator object apriori at 0x000001B0F27C8040>\n"
     ]
    }
   ],
   "source": [
    "# 关联分析\n",
    "results = apriori(order_item_list, min_support=0.005, min_confidence=0.25)\n",
    "print(results)"
   ]
  },
  {
   "cell_type": "code",
   "execution_count": 6,
   "id": "2eb794e0-f740-4078-b116-942d333738c2",
   "metadata": {
    "ExecuteTime": {
     "end_time": "2023-08-29T06:28:44.525893500Z",
     "start_time": "2023-08-29T06:28:28.677120800Z"
    }
   },
   "outputs": [
    {
     "name": "stdout",
     "output_type": "stream",
     "text": [
      "['Acco Binder Covers, Durable']→['Staples'] 0.005 0.258 2.171\n",
      "['Acco Binder, Durable']→['Staples'] 0.007 0.268 2.257\n",
      "['Acco Index Tab, Durable']→['Staples'] 0.008 0.351 2.956\n",
      "['Acme Trimmer, Easy Grip']→['Staples'] 0.005 0.4 3.365\n",
      "['Advantus Clamps, Assorted Sizes']→['Staples'] 0.005 0.333 2.804\n",
      "['Advantus Door Stop, Erganomic']→['Staples'] 0.008 0.429 3.605\n",
      "['Advantus Light Bulb, Black']→['Staples'] 0.005 0.348 2.926\n",
      "['Advantus Stacking Tray, Erganomic']→['Staples'] 0.006 0.25 2.103\n",
      "['Ames Peel and Seal, Set of 50']→['Staples'] 0.005 0.32 2.692\n",
      "['Apple Signal Booster, Cordless']→['Staples'] 0.005 0.308 2.589\n",
      "['Avery Binder Covers, Durable']→['Staples'] 0.006 0.281 2.366\n",
      "['Avery Binder Covers, Economy']→['Staples'] 0.006 0.257 2.163\n",
      "['BIC Canvas, Blue']→['Staples'] 0.006 0.29 2.442\n",
      "['BIC Markers, Water Color']→['Staples'] 0.006 0.25 2.103\n",
      "['BIC Pens, Fluorescent']→['Staples'] 0.005 0.286 2.404\n",
      "['Binney & Smith Highlighters, Easy-Erase']→['Staples'] 0.005 0.267 2.243\n",
      "['Binney & Smith Pencil Sharpener, Water Color']→['Staples'] 0.009 0.269 2.265\n",
      "['Boston Sketch Pad, Easy-Erase']→['Staples'] 0.006 0.281 2.366\n",
      "['Cardinal Binding Machine, Durable']→['Staples'] 0.005 0.25 2.103\n",
      "['Cardinal Hole Reinforcements, Economy']→['Staples'] 0.006 0.294 2.474\n",
      "['Cisco Office Telephone, VoIP']→['Staples'] 0.005 0.333 2.804\n",
      "['Cisco Smart Phone, Cordless']→['Staples'] 0.005 0.296 2.493\n",
      "['Dania Classic Bookcase, Pine']→['Staples'] 0.005 0.381 3.205\n",
      "['Deflect-O Clock, Black']→['Staples'] 0.005 0.348 2.926\n",
      "['Deflect-O Stacking Tray, Black']→['Staples'] 0.005 0.333 2.804\n",
      "['Elite Letter Opener, Easy Grip']→['Staples'] 0.005 0.296 2.493\n",
      "['Elite Trimmer, Serrated']→['Staples'] 0.005 0.364 3.059\n",
      "['Enermax Flash Drive, Erganomic']→['Staples'] 0.007 0.55 4.627\n",
      "['Fellowes Shelving, Single Width']→['Staples'] 0.006 0.257 2.163\n",
      "['Fellowes Trays, Single Width']→['Staples'] 0.005 0.267 2.243\n",
      "['Fiskars Letter Opener, Easy Grip']→['Staples'] 0.005 0.258 2.171\n",
      "['Fiskars Trimmer, Easy Grip']→['Staples'] 0.005 0.296 2.493\n",
      "['GBC Standard Therm-A-Bind Covers']→['Staples'] 0.005 0.727 6.118\n",
      "['Harbour Creations Round Labels, Alphabetical']→['Staples'] 0.005 0.364 3.059\n",
      "['Hon Executive Leather Armchair, Black']→['Staples'] 0.005 0.308 2.589\n",
      "['Hon Shipping Labels, Laser Printer Compatible']→['Staples'] 0.005 0.296 2.493\n",
      "['Hon Steel Folding Chair, Adjustable']→['Staples'] 0.005 0.296 2.493\n",
      "['Hon Swivel Stool, Black']→['Staples'] 0.006 0.25 2.103\n",
      "['Ibico 3-Hole Punch, Recycled']→['Staples'] 0.006 0.27 2.274\n",
      "['Ibico Binding Machine, Recycled']→['Staples'] 0.008 0.302 2.543\n",
      "['Kleencut Box Cutter, High Speed']→['Staples'] 0.005 0.276 2.321\n",
      "['Kraft Business Envelopes, Recycled']→['Staples'] 0.005 0.267 2.243\n",
      "['Memorex Flash Drive, Programmable']→['Staples'] 0.005 0.4 3.365\n",
      "['Novimex Bag Chairs, Black']→['Staples'] 0.005 0.276 2.321\n",
      "['Novimex Chairmat, Set of Two']→['Staples'] 0.005 0.296 2.493\n",
      "['Novimex Executive Leather Armchair, Red']→['Staples'] 0.006 0.321 2.704\n",
      "['OIC Push Pins, Bulk Pack']→['Staples'] 0.005 0.444 3.739\n",
      "['Office Star Rocking Chair, Black']→['Staples'] 0.005 0.267 2.243\n",
      "['Office Star Rocking Chair, Set of Two']→['Staples'] 0.007 0.393 3.305\n",
      "['Rogers Folders, Wire Frame']→['Staples'] 0.006 0.281 2.366\n",
      "['Rogers Lockers, Industrial']→['Staples'] 0.005 0.258 2.171\n",
      "['SAFCO Executive Leather Armchair, Adjustable']→['Staples'] 0.006 0.346 2.912\n",
      "['SAFCO Executive Leather Armchair, Black']→['Staples'] 0.005 0.286 2.404\n",
      "['SAFCO Rocking Chair, Red']→['Staples'] 0.005 0.4 3.365\n",
      "['SAFCO Steel Folding Chair, Red']→['Staples'] 0.006 0.37 3.116\n",
      "['Smead Lockers, Wire Frame']→['Staples'] 0.006 0.265 2.227\n",
      "['Smead Trays, Single Width']→['Staples'] 0.009 0.359 3.02\n",
      "['Stiletto Shears, Serrated']→['Staples'] 0.005 0.471 3.959\n",
      "['Stockwell Paper Clips, Assorted Sizes']→['Staples'] 0.011 0.295 2.482\n",
      "['Stockwell Thumb Tacks, Bulk Pack']→['Staples'] 0.007 0.289 2.435\n",
      "['Tenex Lockers, Single Width']→['Staples'] 0.005 0.267 2.243\n",
      "['Tenex Trays, Single Width']→['Staples'] 0.006 0.263 2.214\n",
      "['Wilson Jones Hole Reinforcements, Economy']→['Staples'] 0.008 0.324 2.728\n",
      "['Xerox 1881']→['Staples'] 0.005 0.727 6.118\n"
     ]
    }
   ],
   "source": [
    "# 遍历结果数据\n",
    "list1, list2, list3, list4 = [], [], [], []\n",
    "for result in results:\n",
    "    # 获取支持度,并保留3位小数\n",
    "    support = round(result.support, 3)\n",
    "    # 遍历ordered_statistics对象\n",
    "    for rule in result.ordered_statistics:\n",
    "        # 获取前件和后件并转成列表\n",
    "        head_set = list(rule.items_base)\n",
    "        tail_set = list(rule.items_add)\n",
    "        # 跳过前件为空的数据\n",
    "        if not head_set:\n",
    "            continue\n",
    "        # 将前件、后件拼接成关联规则的形式\n",
    "        related_category = str(head_set) + '→' + str(tail_set)\n",
    "        # 提取置信度，并保留3位小数\n",
    "        confidence = round(rule.confidence, 3)\n",
    "        # 提取提升度，并保留3位小数\n",
    "        lift = round(rule.lift, 3)\n",
    "        # 查看强关联规则，支持度，置信度，提升度\n",
    "        print(related_category, support, confidence, lift)\n",
    "        list1.append(related_category)\n",
    "        list2.append(support)\n",
    "        list3.append(confidence)\n",
    "        list4.append(lift)"
   ]
  },
  {
   "cell_type": "code",
   "execution_count": 9,
   "id": "dca3539e-8f59-4784-b559-54a5e4ecb379",
   "metadata": {
    "ExecuteTime": {
     "end_time": "2023-08-29T06:32:01.980151500Z",
     "start_time": "2023-08-29T06:32:01.866537400Z"
    }
   },
   "outputs": [
    {
     "name": "stdout",
     "output_type": "stream",
     "text": [
      "Save successfully.\n"
     ]
    }
   ],
   "source": [
    "# 保存结果\n",
    "df = pd.DataFrame()\n",
    "df['related_category'] = list1\n",
    "df['support'] = list2\n",
    "df['confidence'] = list3\n",
    "df['lift'] = list4\n",
    "df = df.sort_values('lift', ascending=False)\n",
    "df.to_csv(\"D:/jj/py_data/shopping_basket_result.csv\")\n",
    "print('Save successfully.')"
   ]
  },
  {
   "cell_type": "code",
   "execution_count": 8,
   "outputs": [],
   "source": [
    "product = 'GBC Standard Therm-A-Bind Covers'"
   ],
   "metadata": {
    "collapsed": false,
    "ExecuteTime": {
     "end_time": "2023-08-29T06:28:57.678875800Z",
     "start_time": "2023-08-29T06:28:57.662241700Z"
    }
   },
   "id": "dcb8376ccc1a06df"
  },
  {
   "cell_type": "code",
   "execution_count": null,
   "outputs": [],
   "source": [],
   "metadata": {
    "collapsed": false
   },
   "id": "269f597a3d345ff7"
  }
 ],
 "metadata": {
  "kernelspec": {
   "display_name": "Python 3",
   "language": "python",
   "name": "python3"
  },
  "language_info": {
   "codemirror_mode": {
    "name": "ipython",
    "version": 3
   },
   "file_extension": ".py",
   "mimetype": "text/x-python",
   "name": "python",
   "nbconvert_exporter": "python",
   "pygments_lexer": "ipython3",
   "version": "3.8.8"
  }
 },
 "nbformat": 4,
 "nbformat_minor": 5
}
